{
  "nbformat": 4,
  "nbformat_minor": 0,
  "metadata": {
    "colab": {
      "name": "learner1.ipynb",
      "provenance": [],
      "collapsed_sections": [],
      "toc_visible": true,
      "mount_file_id": "1fYOmVS87kmTMlVAVRTntYP89LxAoZECx",
      "authorship_tag": "ABX9TyNtSZyY71JVEMmkZAiC1JTg",
      "include_colab_link": true
    },
    "kernelspec": {
      "name": "python3",
      "display_name": "Python 3"
    },
    "language_info": {
      "name": "python"
    }
  },
  "cells": [
    {
      "cell_type": "markdown",
      "metadata": {
        "id": "view-in-github",
        "colab_type": "text"
      },
      "source": [
        "<a href=\"https://colab.research.google.com/github/hirossk/OCOpenCV/blob/main/learner1.ipynb\" target=\"_parent\"><img src=\"https://colab.research.google.com/assets/colab-badge.svg\" alt=\"Open In Colab\"/></a>"
      ]
    },
    {
      "cell_type": "markdown",
      "metadata": {
        "id": "lY4-l1KiUgxC"
      },
      "source": [
        "#Google ColaboratoryによるPythonプログラミング基礎\n",
        "##Pythonによる計算\n"
      ]
    },
    {
      "cell_type": "code",
      "metadata": {
        "colab": {
          "base_uri": "https://localhost:8080/"
        },
        "id": "CEIeoYLWVAfk",
        "outputId": "88bc24d5-1ff8-43ad-cefa-2d0d3b7ff7fd"
      },
      "source": [
        "3 * 4"
      ],
      "execution_count": 2,
      "outputs": [
        {
          "output_type": "execute_result",
          "data": {
            "text/plain": [
              "12"
            ]
          },
          "metadata": {},
          "execution_count": 2
        }
      ]
    },
    {
      "cell_type": "code",
      "metadata": {
        "colab": {
          "base_uri": "https://localhost:8080/"
        },
        "id": "bUXMf7XnVWYI",
        "outputId": "ffb9a7f8-b5b4-4c0c-de7f-264426cb0a3d"
      },
      "source": [
        "1 / 3"
      ],
      "execution_count": 3,
      "outputs": [
        {
          "output_type": "execute_result",
          "data": {
            "text/plain": [
              "0.3333333333333333"
            ]
          },
          "metadata": {},
          "execution_count": 3
        }
      ]
    },
    {
      "cell_type": "code",
      "metadata": {
        "colab": {
          "base_uri": "https://localhost:8080/"
        },
        "id": "xtMZaklCVYUo",
        "outputId": "e44cd9b2-57bd-4a01-890c-d802601852bc"
      },
      "source": [
        "4 ** 2"
      ],
      "execution_count": 4,
      "outputs": [
        {
          "output_type": "execute_result",
          "data": {
            "text/plain": [
              "16"
            ]
          },
          "metadata": {},
          "execution_count": 4
        }
      ]
    },
    {
      "cell_type": "code",
      "metadata": {
        "colab": {
          "base_uri": "https://localhost:8080/"
        },
        "id": "iNt9P_rpVbHa",
        "outputId": "1f3a0d4e-4d13-489b-c2fc-d99a76aee603"
      },
      "source": [
        "( 1 + 2 + 3 )  / 2"
      ],
      "execution_count": 5,
      "outputs": [
        {
          "output_type": "execute_result",
          "data": {
            "text/plain": [
              "3.0"
            ]
          },
          "metadata": {},
          "execution_count": 5
        }
      ]
    },
    {
      "cell_type": "markdown",
      "metadata": {
        "id": "6ewNmq24VsU_"
      },
      "source": [
        "####変数の確認"
      ]
    },
    {
      "cell_type": "code",
      "metadata": {
        "colab": {
          "base_uri": "https://localhost:8080/"
        },
        "id": "zG0xyAwzV6BF",
        "outputId": "aed8c5ac-0a91-4d53-d67f-1acd2170b4b5"
      },
      "source": [
        "x = 10\n",
        "x"
      ],
      "execution_count": 8,
      "outputs": [
        {
          "output_type": "execute_result",
          "data": {
            "text/plain": [
              "10"
            ]
          },
          "metadata": {},
          "execution_count": 8
        }
      ]
    },
    {
      "cell_type": "code",
      "metadata": {
        "colab": {
          "base_uri": "https://localhost:8080/"
        },
        "id": "n5V3-yM0V_jA",
        "outputId": "8b80acd8-8e08-43b9-a18c-4e55dee2a56c"
      },
      "source": [
        "x / 4"
      ],
      "execution_count": 9,
      "outputs": [
        {
          "output_type": "execute_result",
          "data": {
            "text/plain": [
              "2.5"
            ]
          },
          "metadata": {},
          "execution_count": 9
        }
      ]
    },
    {
      "cell_type": "markdown",
      "metadata": {
        "id": "ofd7CoN8WUbQ"
      },
      "source": [
        "##まとまった手順の実行\n"
      ]
    },
    {
      "cell_type": "code",
      "metadata": {
        "colab": {
          "base_uri": "https://localhost:8080/"
        },
        "id": "lg21fDH4WbhU",
        "outputId": "ccc797cd-66f0-48df-f402-03cb0d07d611"
      },
      "source": [
        "x = 1\n",
        "x = x + 2\n",
        "x = x + 3\n",
        "x = x + 4\n",
        "x = x + 5\n",
        "x"
      ],
      "execution_count": 10,
      "outputs": [
        {
          "output_type": "execute_result",
          "data": {
            "text/plain": [
              "15"
            ]
          },
          "metadata": {},
          "execution_count": 10
        }
      ]
    },
    {
      "cell_type": "code",
      "metadata": {
        "colab": {
          "base_uri": "https://localhost:8080/"
        },
        "id": "8znodjzoWlS9",
        "outputId": "0f6ae4dd-8380-4ed0-dadc-4c6b15c3eaf7"
      },
      "source": [
        "print( x )"
      ],
      "execution_count": 11,
      "outputs": [
        {
          "output_type": "stream",
          "name": "stdout",
          "text": [
            "15\n"
          ]
        }
      ]
    },
    {
      "cell_type": "markdown",
      "metadata": {
        "id": "XyuVzR0QXFTK"
      },
      "source": [
        "##if文"
      ]
    },
    {
      "cell_type": "code",
      "metadata": {
        "colab": {
          "base_uri": "https://localhost:8080/"
        },
        "id": "K3xYS0VdXJdy",
        "outputId": "93cfd7bf-8053-4a09-e7f2-cbc5abe97782"
      },
      "source": [
        "x = 60\n",
        "if x >= 80:\n",
        "    print ( \"A\" )\n",
        "elif x >= 60:\n",
        "    print ( \"B\" )\n",
        "elif x >= 40:\n",
        "    print ( \"C\" )\n",
        "else:\n",
        "    print ( \"D\" )"
      ],
      "execution_count": 12,
      "outputs": [
        {
          "output_type": "stream",
          "name": "stdout",
          "text": [
            "B\n"
          ]
        }
      ]
    },
    {
      "cell_type": "markdown",
      "metadata": {
        "id": "nGtL0Bj3XSbt"
      },
      "source": [
        "##for文"
      ]
    },
    {
      "cell_type": "code",
      "metadata": {
        "colab": {
          "base_uri": "https://localhost:8080/"
        },
        "id": "MZPfZup2XWPZ",
        "outputId": "003c4600-3b71-4b92-dc09-eb8e68ff004d"
      },
      "source": [
        "for x in range(3):\n",
        "     print( \"wan\" )\n",
        "     print( \"nyan\" )"
      ],
      "execution_count": 14,
      "outputs": [
        {
          "output_type": "stream",
          "name": "stdout",
          "text": [
            "wan\n",
            "nyan\n",
            "wan\n",
            "nyan\n",
            "wan\n",
            "nyan\n"
          ]
        }
      ]
    },
    {
      "cell_type": "code",
      "metadata": {
        "colab": {
          "base_uri": "https://localhost:8080/"
        },
        "id": "Uzv9WOG2Xode",
        "outputId": "5d46ba10-ff2d-457f-9db5-893bd3dcd1ea"
      },
      "source": [
        "sum = 0\n",
        "for x in range(1,11):\n",
        "     sum = sum + x\n",
        "print ( sum ) "
      ],
      "execution_count": 15,
      "outputs": [
        {
          "output_type": "stream",
          "name": "stdout",
          "text": [
            "55\n"
          ]
        }
      ]
    },
    {
      "cell_type": "markdown",
      "metadata": {
        "id": "rZ8nCl3kXzZX"
      },
      "source": [
        "##入力"
      ]
    },
    {
      "cell_type": "code",
      "metadata": {
        "colab": {
          "base_uri": "https://localhost:8080/"
        },
        "id": "VtUHq35RX2Mn",
        "outputId": "277be42e-2518-4cd0-bdcf-523caee3613d"
      },
      "source": [
        "x = input ( \"math = \" )\n",
        "m = int ( x ) \n",
        "y = input ( \"english = \" )\n",
        "e = int ( y )\n",
        "print ( \"The average score is \" + str((m + e) / 2) )"
      ],
      "execution_count": 16,
      "outputs": [
        {
          "output_type": "stream",
          "name": "stdout",
          "text": [
            "math = 10\n",
            "english = 20\n",
            "The average score is 15.0\n"
          ]
        }
      ]
    },
    {
      "cell_type": "markdown",
      "metadata": {
        "id": "_O2gMVjWX6Ux"
      },
      "source": [
        "##入力と繰り返し"
      ]
    },
    {
      "cell_type": "code",
      "metadata": {
        "colab": {
          "base_uri": "https://localhost:8080/"
        },
        "id": "Eb73ecWXX9DZ",
        "outputId": "8e0542f3-ac37-401b-9417-7d2fd7b9fbce"
      },
      "source": [
        "y = 0\n",
        "for n in range(1, 11):\n",
        "    x = input ( \"subject\" + str(n) + \" = \" )\n",
        "    y = y + int( x )\n",
        "print( y / 10 )"
      ],
      "execution_count": 17,
      "outputs": [
        {
          "output_type": "stream",
          "name": "stdout",
          "text": [
            "subject1 = 10\n",
            "subject2 = 20\n",
            "subject3 = 30\n",
            "subject4 = 40\n",
            "subject5 = 50\n",
            "subject6 = 60\n",
            "subject7 = 70\n",
            "subject8 = 80\n",
            "subject9 = 90\n",
            "subject10 = 100\n",
            "55.0\n"
          ]
        }
      ]
    },
    {
      "cell_type": "markdown",
      "metadata": {
        "id": "vmQjoAwxYLvX"
      },
      "source": [
        "##二重ループ\n"
      ]
    },
    {
      "cell_type": "code",
      "metadata": {
        "colab": {
          "base_uri": "https://localhost:8080/"
        },
        "id": "Y6NnrSBZYO0P",
        "outputId": "2da7d3a6-b930-472b-9665-e0ba23444532"
      },
      "source": [
        "for x in range(1,10): #外ループ\n",
        "    print(\" {:>2d} 行 \".format( x ), end = \"\") \n",
        "    #xの値を出力\n",
        "    #書式を指定して出力するためには\n",
        "    for y in range(1,10): #内ループ\n",
        "        #yの値を出力\n",
        "        print(\" {:>2d}\".format(x * y), end = \"\")\n",
        "        #printは改行するが、改行を禁止するためにはprintの引数に\n",
        "        #end = \"\"を記入する\n",
        "    print()"
      ],
      "execution_count": 18,
      "outputs": [
        {
          "output_type": "stream",
          "name": "stdout",
          "text": [
            "  1 行   1  2  3  4  5  6  7  8  9\n",
            "  2 行   2  4  6  8 10 12 14 16 18\n",
            "  3 行   3  6  9 12 15 18 21 24 27\n",
            "  4 行   4  8 12 16 20 24 28 32 36\n",
            "  5 行   5 10 15 20 25 30 35 40 45\n",
            "  6 行   6 12 18 24 30 36 42 48 54\n",
            "  7 行   7 14 21 28 35 42 49 56 63\n",
            "  8 行   8 16 24 32 40 48 56 64 72\n",
            "  9 行   9 18 27 36 45 54 63 72 81\n"
          ]
        }
      ]
    },
    {
      "cell_type": "markdown",
      "metadata": {
        "id": "m_7lS7LmYe2c"
      },
      "source": [
        "#Pythonのデータ構造基礎\n",
        "##リスト"
      ]
    },
    {
      "cell_type": "code",
      "metadata": {
        "colab": {
          "base_uri": "https://localhost:8080/"
        },
        "id": "4KMwfFTAYoy2",
        "outputId": "05e75f3c-8f35-4d94-da85-b027ebf68020"
      },
      "source": [
        "subjects = [\"Mathematics\",\"English\",\"Social\",\"Japanese\",\n",
        "            \"Scientific\"]\n",
        "for s in subjects:\n",
        "    print ( s )"
      ],
      "execution_count": 19,
      "outputs": [
        {
          "output_type": "stream",
          "name": "stdout",
          "text": [
            "Mathematics\n",
            "English\n",
            "Social\n",
            "Japanese\n",
            "Scientific\n"
          ]
        }
      ]
    },
    {
      "cell_type": "code",
      "metadata": {
        "colab": {
          "base_uri": "https://localhost:8080/"
        },
        "id": "wvnXo7oaYxLf",
        "outputId": "46164b1d-d4b1-481c-91c3-6a589fe45bec"
      },
      "source": [
        "subjects = [\"Mathematics\",\"English\",\"Social\",\n",
        "    \"Japanese\",\"Scientific\"]\n",
        "scores = [] \n",
        "#空のリストを作成\n",
        "for s in subjects:\n",
        "    x = input( s + \" = \" )\n",
        "    y = int ( x )\n",
        "    scores.append( y )\n",
        "    #scoresに要素を追加する\n",
        "\n",
        "l = len(subjects)\n",
        "#配列の長さはlen関数を利用することで求められます（ここでは5となります）\n",
        "for n in range(5):\n",
        "    print ( subjects[n] + \":\" , scores[n])\n",
        "# print命令は「,」（カンマ）でつなぐと改行なしで値を出力できます。"
      ],
      "execution_count": 20,
      "outputs": [
        {
          "output_type": "stream",
          "name": "stdout",
          "text": [
            "Mathematics = 10\n",
            "English = 20\n",
            "Social = 30\n",
            "Japanese = 40\n",
            "Scientific = 50\n",
            "Mathematics: 10\n",
            "English: 20\n",
            "Social: 30\n",
            "Japanese: 40\n",
            "Scientific: 50\n"
          ]
        }
      ]
    },
    {
      "cell_type": "code",
      "metadata": {
        "colab": {
          "base_uri": "https://localhost:8080/"
        },
        "id": "BnD-go6_Y7MP",
        "outputId": "6fad6389-6312-45ca-9e75-b02aa7c78507"
      },
      "source": [
        "subjects = [\"Mathematics\",\"English\",\"Social\",\n",
        "    \"Japanese\",\"Scientific\"]\n",
        "scores = [] \n",
        "for s in subjects:\n",
        "    x = input( s + \" = \" )\n",
        "    y = int ( x )\n",
        "    scores.append( y )\n",
        "\n",
        "for n in range(0,5):\n",
        "    if scores[n] >= 60:\n",
        "        mes = \"合格\"\n",
        "    else:\n",
        "        mes = \"不合格\"\n",
        "    print ( subjects[n] + \":\" , scores[n], mes)56"
      ],
      "execution_count": 21,
      "outputs": [
        {
          "output_type": "stream",
          "name": "stdout",
          "text": [
            "Mathematics = 10\n",
            "English = 20\n",
            "Social = 30\n",
            "Japanese = 40\n",
            "Scientific = 0\n",
            "Mathematics: 10 不合格\n",
            "English: 20 不合格\n",
            "Social: 30 不合格\n",
            "Japanese: 40 不合格\n",
            "Scientific: 0 不合格\n"
          ]
        }
      ]
    },
    {
      "cell_type": "markdown",
      "metadata": {
        "id": "Rzto_DMrY-Bv"
      },
      "source": [
        "##リストの中のリスト(2次元配列）\n"
      ]
    },
    {
      "cell_type": "code",
      "metadata": {
        "colab": {
          "base_uri": "https://localhost:8080/"
        },
        "id": "2oVTWz6RZMIT",
        "outputId": "c554714c-3f8e-4bb9-f383-8f8d5a853413"
      },
      "source": [
        "students_scores = [[60, 80], [70, 90], [80, 100]]\n",
        "m = 0 #数学の合計点\n",
        "e = 0 #英語の合計点\n",
        "\n",
        "for v in students_scores:\n",
        "    m = m + v[0]\n",
        "    e = e + v[1]\n",
        "\n",
        "print (\"数学の合計点数\", m)\n",
        "print (\"英語の合計点数\", e)"
      ],
      "execution_count": 22,
      "outputs": [
        {
          "output_type": "stream",
          "name": "stdout",
          "text": [
            "数学の合計点数 210\n",
            "英語の合計点数 270\n"
          ]
        }
      ]
    },
    {
      "cell_type": "code",
      "metadata": {
        "colab": {
          "base_uri": "https://localhost:8080/"
        },
        "id": "oN2k8k37ZTet",
        "outputId": "93c14143-ea2d-4d2f-b0b5-f542c293b2f6"
      },
      "source": [
        "students_scores = [[60, 80], [70, 90], [80, 100]]\n",
        "m = 0 #数学の合計点\n",
        "e = 0 #英語の合計点\n",
        "\n",
        "for i in range (3):\n",
        "    m = m + students_scores[i][0]\n",
        "    e = e + students_scores[i][1]\n",
        "\n",
        "print (\"数学の合計点数\", m)\n",
        "print (\"英語の合計点数\", e)"
      ],
      "execution_count": 23,
      "outputs": [
        {
          "output_type": "stream",
          "name": "stdout",
          "text": [
            "数学の合計点数 210\n",
            "英語の合計点数 270\n"
          ]
        }
      ]
    },
    {
      "cell_type": "markdown",
      "metadata": {
        "id": "btxVSBaXZe0R"
      },
      "source": [
        "##リストの操作"
      ]
    },
    {
      "cell_type": "code",
      "metadata": {
        "colab": {
          "base_uri": "https://localhost:8080/"
        },
        "id": "mYcDqEzyZdhW",
        "outputId": "68fad687-00a2-44c8-fe3e-a6760f9e726a"
      },
      "source": [
        "l = [ 4 , 5 , 7 , 2 , 1 , 9 ]\n",
        "print(l)\n",
        "l.sort() #昇順ソート\n",
        "print(l)\n",
        "l.sort( reverse = True ) #降順ソート\n",
        "print(l)\n",
        "print(l.pop()) #最後の要素の取り出し\n",
        "print(l.pop(0)) #先頭の要素の取り出し"
      ],
      "execution_count": 29,
      "outputs": [
        {
          "output_type": "stream",
          "name": "stdout",
          "text": [
            "[4, 5, 7, 2, 1, 9]\n",
            "[1, 2, 4, 5, 7, 9]\n",
            "[9, 7, 5, 4, 2, 1]\n",
            "1\n",
            "9\n"
          ]
        }
      ]
    },
    {
      "cell_type": "markdown",
      "metadata": {
        "id": "fCW9rfdNaW1J"
      },
      "source": [
        "##辞書"
      ]
    },
    {
      "cell_type": "code",
      "metadata": {
        "colab": {
          "base_uri": "https://localhost:8080/"
        },
        "id": "0fSxadNqadpO",
        "outputId": "4451acf4-c822-430c-c754-ef16c6fa4108"
      },
      "source": [
        "dictdata = {'CTS':'SHINCHITOSE', 'HKD':'HAKODATE', \n",
        "    'HND':'TOKYOKOKUSAI', 'NRT':'NARITAKOKUSAI' }\n",
        "print(dictdata['CTS'])"
      ],
      "execution_count": 30,
      "outputs": [
        {
          "output_type": "stream",
          "name": "stdout",
          "text": [
            "SHINCHITOSE\n"
          ]
        }
      ]
    },
    {
      "cell_type": "markdown",
      "metadata": {
        "id": "CNKn3W5taoby"
      },
      "source": [
        "##JSONとPythonのデータ構造"
      ]
    },
    {
      "cell_type": "code",
      "metadata": {
        "colab": {
          "base_uri": "https://localhost:8080/"
        },
        "id": "zBxiaE6Jat3P",
        "outputId": "c45d4829-36b0-4aec-de21-c0377cfd482d"
      },
      "source": [
        "json_data = {\n",
        "  \"class\":\"2年3組\" ,\n",
        "  \"name\":\"佐々木\" ,\n",
        "  \"score\":[60, 70 ,50 , 80, 100]\n",
        "  }\n",
        "  \n",
        "print('json_data[\"name\"] ⇒ ' +json_data['name'])\n",
        "print('json_data[\"score\"] ⇒ ' + str(json_data['score']))\n",
        "print('json_data[\"score\"][1] ⇒ ' + str(json_data['score'][1]))\n",
        "\n",
        "total = 0\n",
        "for score in json_data['score']:\n",
        "\ttotal = total + score\n",
        "print(\"平均点:\" + str(total/5)) "
      ],
      "execution_count": 31,
      "outputs": [
        {
          "output_type": "stream",
          "name": "stdout",
          "text": [
            "json_data[\"name\"] ⇒ 佐々木\n",
            "json_data[\"score\"] ⇒ [60, 70, 50, 80, 100]\n",
            "json_data[\"score\"][1] ⇒ 70\n",
            "平均点:72.0\n"
          ]
        }
      ]
    },
    {
      "cell_type": "markdown",
      "metadata": {
        "id": "nTF56NWYbLlr"
      },
      "source": [
        "#Pythonの関数\n"
      ]
    },
    {
      "cell_type": "code",
      "metadata": {
        "colab": {
          "base_uri": "https://localhost:8080/"
        },
        "id": "lRX331E4bSGO",
        "outputId": "1d1c6ea0-6baf-4da1-b20a-225de920cda8"
      },
      "source": [
        "def func(x):\n",
        "    answer = x ** 2 + 2 * x + 3\n",
        "    return answer\n",
        "#ここでインデント（字下げ）を戻すことで関数（まとまった手順）が終わったという意味ことになります。\n",
        "y = func(2) #ここで上に書いた関数funcを呼び出しています。\n",
        "print( y )\n",
        "y = func(4)\n",
        "print( y )"
      ],
      "execution_count": 32,
      "outputs": [
        {
          "output_type": "stream",
          "name": "stdout",
          "text": [
            "11\n",
            "27\n"
          ]
        }
      ]
    },
    {
      "cell_type": "code",
      "metadata": {
        "colab": {
          "base_uri": "https://localhost:8080/"
        },
        "id": "PRMOhQVdbX8F",
        "outputId": "691713df-b201-4339-d692-60225ecf9518"
      },
      "source": [
        "def func1(x):\n",
        "    answer = x ** 2 + 2 * x + 3\n",
        "    return answer\n",
        "\n",
        "def func2(n):\n",
        "\tt = 0\n",
        "\tfor i in range(n):\n",
        "\t\ty = func1(i)\n",
        "\t\tt = t + y\n",
        "\treturn t\n",
        "\n",
        "a = func2(5)\n",
        "print( a )"
      ],
      "execution_count": 33,
      "outputs": [
        {
          "output_type": "stream",
          "name": "stdout",
          "text": [
            "65\n"
          ]
        }
      ]
    },
    {
      "cell_type": "code",
      "metadata": {
        "colab": {
          "base_uri": "https://localhost:8080/"
        },
        "id": "6VT3BEkrbZy3",
        "outputId": "b7e6b12d-60fd-4042-fe61-51e466f9cbb0"
      },
      "source": [
        "#引数にはなにも指定しません。\n",
        "def func():\n",
        "    answer = x ** 2 + 2 * x + 3\n",
        "    return answer\n",
        "\n",
        "x = 2\n",
        "#ここでxに代入するとグローバル変数として扱われます。\n",
        "y = func()\n",
        "print( y )\n",
        "\n",
        "x = 4\n",
        "y = func()\n",
        "print( y )"
      ],
      "execution_count": 34,
      "outputs": [
        {
          "output_type": "stream",
          "name": "stdout",
          "text": [
            "11\n",
            "27\n"
          ]
        }
      ]
    },
    {
      "cell_type": "markdown",
      "metadata": {
        "id": "qK2aYgupbmrY"
      },
      "source": [
        "##変数のスコープ"
      ]
    },
    {
      "cell_type": "code",
      "metadata": {
        "colab": {
          "base_uri": "https://localhost:8080/"
        },
        "id": "LRJ-PxsIbfFK",
        "outputId": "60f6dbe8-ab12-4715-bc1a-baa772542ecf"
      },
      "source": [
        "#スコープが異なれば同じ変数名が利用できます。\n",
        "def func(x):\n",
        "    answer = x ** 2 + 2 * x + 3\n",
        "    x = -1\n",
        "    #func内で利用可能なxは他の部分で利用されるxとは異なる変数となります。\n",
        "    return answer\n",
        "\n",
        "x = 2\n",
        "#ここでxに代入するとグローバル変数として扱われます。\n",
        "y = func( x )\n",
        "print( y )\n",
        "print( x ) \n",
        "\n",
        "x = 4\n",
        "y = func( x )\n",
        "print( y )"
      ],
      "execution_count": 35,
      "outputs": [
        {
          "output_type": "stream",
          "name": "stdout",
          "text": [
            "11\n",
            "2\n",
            "27\n"
          ]
        }
      ]
    },
    {
      "cell_type": "markdown",
      "metadata": {
        "id": "MIjnzg07btGt"
      },
      "source": [
        "##データ構造と関数\n"
      ]
    },
    {
      "cell_type": "code",
      "metadata": {
        "colab": {
          "base_uri": "https://localhost:8080/"
        },
        "id": "Xzg78EVjbxbc",
        "outputId": "c040bcb7-c258-4497-db51-a21dbdb88d8d"
      },
      "source": [
        "def evaluation(score):\n",
        "    if score < 0 or score > 100:\n",
        "        mes = \"error\"\n",
        "    elif score >= 80:\n",
        "        mes = \"excelent\"\n",
        "    elif score >= 60:\n",
        "        mes = \"good\"\n",
        "    elif score >= 40:\n",
        "        mes = \"passing\"\n",
        "    else:\n",
        "        mes = \"failing\"\n",
        "    return mes\n",
        "\n",
        "subjects = [\"Mathematics\" ,\"English\",\"Social\",\"Japanese\", \\\n",
        "\t\t\t\"Scientific\"]\n",
        "scores = []\n",
        "for s in subjects:\n",
        "    x = input( s + \" = \" )\n",
        "    y = int ( x )\n",
        "    scores.append( y )\n",
        "for n in range(5):\n",
        "    mes = evaluation(scores[n])\n",
        "    print ( subjects[n] + \":\" , scores[n], mes )"
      ],
      "execution_count": 36,
      "outputs": [
        {
          "output_type": "stream",
          "name": "stdout",
          "text": [
            "Mathematics = 50\n",
            "English = 60\n",
            "Social = 70\n",
            "Japanese = 80\n",
            "Scientific = 90\n",
            "Mathematics: 50 passing\n",
            "English: 60 good\n",
            "Social: 70 good\n",
            "Japanese: 80 excelent\n",
            "Scientific: 90 excelent\n"
          ]
        }
      ]
    },
    {
      "cell_type": "markdown",
      "metadata": {
        "id": "YHQKvHcIb75F"
      },
      "source": [
        "#Pythonのモジュール"
      ]
    },
    {
      "cell_type": "code",
      "metadata": {
        "colab": {
          "base_uri": "https://localhost:8080/"
        },
        "id": "dQTuiNeDcBGY",
        "outputId": "21ee48f4-8e84-4dda-bf8d-98e88641b274"
      },
      "source": [
        "#モジュールを利用する場合import文で読み込みを行う\n",
        "import random\n",
        "import time\n",
        "import math\n",
        "\n",
        "for i in range(3):\n",
        "    #ループの回数を表示する\n",
        "    print( i )\n",
        "    #現在時刻を取得し表示する\n",
        "    print( time.ctime() )\n",
        "    #カウンターの平方根を求め表示する\n",
        "    print( math.sqrt(i) )\n",
        "    #カウンターの平方根を求め表示する\n",
        "    print( math.pow(i , 1 / 3))\n",
        "    #1~3の乱数を生成する\n",
        "    a = random.randint(1,3)\n",
        "    print( a )\n",
        "    #sleepは引数で指定された時間\n",
        "    time.sleep( 1 )\n",
        "    pass\n",
        "\n",
        "else:\n",
        "    print( \"end\" )"
      ],
      "execution_count": 38,
      "outputs": [
        {
          "output_type": "stream",
          "name": "stdout",
          "text": [
            "0\n",
            "Thu Sep 23 06:55:57 2021\n",
            "0.0\n",
            "0.0\n",
            "3\n",
            "1\n",
            "Thu Sep 23 06:55:58 2021\n",
            "1.0\n",
            "1.0\n",
            "2\n",
            "2\n",
            "Thu Sep 23 06:55:59 2021\n",
            "1.4142135623730951\n",
            "1.2599210498948732\n",
            "2\n",
            "end\n"
          ]
        }
      ]
    },
    {
      "cell_type": "markdown",
      "metadata": {
        "id": "Rt2TW0XvdIZ6"
      },
      "source": [
        "##図形描画"
      ]
    },
    {
      "cell_type": "code",
      "metadata": {
        "id": "8ALEE5XdcMSo"
      },
      "source": [
        "#Pillowライブラリを利用する場合は名称PILを使う宣言が必要で、\n",
        "#import文で描画に必要なライブラリを指定する。\n",
        "from PIL import Image\n",
        "\n",
        "im = Image.new('RGB', (500, 300)) #イメージを作成する。'RGB'は赤・緑・青の色指定を意味する\n",
        "im = Image.new('RGB', (500, 300),( 255, 0, 0)) #イメージを作成する。'RGB'は赤・緑・青の色指定を意味する\n",
        "\n",
        "im.show() #イメージを表示する\n",
        "#Colaboratoryでは表示されません。"
      ],
      "execution_count": 40,
      "outputs": []
    },
    {
      "cell_type": "code",
      "metadata": {
        "colab": {
          "base_uri": "https://localhost:8080/",
          "height": 317
        },
        "id": "4j_PlrTTcyep",
        "outputId": "88286682-7c60-480a-d16d-79bc8a9aea17"
      },
      "source": [
        "from IPython.display import display\n",
        "#Pillowライブラリを利用する場合は名称PILを使う宣言が必要で、\n",
        "#import文で描画に必要なライブラリを指定する。\n",
        "from PIL import Image\n",
        "\n",
        "im = Image.new('RGB', (500, 300),( 255, 255, 0)) #イメージを作成する。'RGB'は赤・緑・青の色指定を意味する\n",
        "\n",
        "display(im)"
      ],
      "execution_count": 42,
      "outputs": [
        {
          "output_type": "display_data",
          "data": {
            "image/png": "[encoded data removed]",
            "text/plain": [
              "<PIL.Image.Image image mode=RGB size=500x300 at 0x7F6E54C81FD0>"
            ]
          },
          "metadata": {}
        }
      ]
    },
    {
      "cell_type": "code",
      "metadata": {
        "colab": {
          "base_uri": "https://localhost:8080/",
          "height": 317
        },
        "id": "jpB6eR59dLV0",
        "outputId": "da3151d3-d7a2-4dea-830f-18bf179a2f08"
      },
      "source": [
        "from IPython.display import display\n",
        "from PIL import Image,ImageDraw #ImageDrawのインポートを追加する\n",
        "\n",
        "im = Image.new('RGB', (500, 300))\n",
        "draw = ImageDraw.Draw(im) #描画用のオブジェクトを生成する\n",
        "\n",
        "draw.line((50,50,150,50)) #x,y座標を指定して線を引く \n",
        "draw.line((50,100,150,150))\n",
        "\n",
        "display(im)"
      ],
      "execution_count": 43,
      "outputs": [
        {
          "output_type": "display_data",
          "data": {
            "image/png": "[encoded data removed]",
            "text/plain": [
              "<PIL.Image.Image image mode=RGB size=500x300 at 0x7F6E54C9B850>"
            ]
          },
          "metadata": {}
        }
      ]
    },
    {
      "cell_type": "code",
      "metadata": {
        "colab": {
          "base_uri": "https://localhost:8080/",
          "height": 317
        },
        "id": "_75hlcnTdXCB",
        "outputId": "37603bcc-372f-401c-8fac-0b7c6dea156b"
      },
      "source": [
        "from IPython.display import display\n",
        "from PIL import Image,ImageDraw\n",
        "\n",
        "im = Image.new('RGB', (500, 300),(255,255,255))\n",
        "draw = ImageDraw.Draw(im)\n",
        "draw.line((50,50,150,50),fill=(255,0,0)) #引数に色指定を追加する\n",
        "draw.line((50,100,150,150),fill=(255,0,0), width = 4)\n",
        "  #引数に線の幅を指定する\n",
        "draw.ellipse((150,150,300,300),fill=(0,255,0))\n",
        "\n",
        "display(im)"
      ],
      "execution_count": 44,
      "outputs": [
        {
          "output_type": "display_data",
          "data": {
            "image/png": "[encoded data removed]",
            "text/plain": [
              "<PIL.Image.Image image mode=RGB size=500x300 at 0x7F6E54C71750>"
            ]
          },
          "metadata": {}
        }
      ]
    },
    {
      "cell_type": "code",
      "metadata": {
        "colab": {
          "base_uri": "https://localhost:8080/",
          "height": 517
        },
        "id": "50DeN8bYdg_R",
        "outputId": "d95b202c-ee7f-433a-c991-bb322d2e2427"
      },
      "source": [
        "from IPython.display import display\n",
        "from PIL import Image,ImageDraw\n",
        "\n",
        "im = Image.new('RGB', (500, 500),(255,240,230))\n",
        "#背景をクリーム色で描画用のエリアを作成します。\n",
        "\n",
        "draw = ImageDraw.Draw(im)\n",
        "black=( 0 , 0 , 0 )\n",
        "draw.ellipse((100,100,400,400),fill=(230,150,110))\n",
        "draw.ellipse((190,155,220,210),fill=black)\n",
        "draw.ellipse((280,155,310,210),fill=black)\n",
        "draw.ellipse((200,210,300,290),fill=(230,50,12))\n",
        "draw.rectangle((250,230,270,250),fill=(255,255,255))\n",
        "\n",
        "draw.arc((150,140,260,250),-120,-60,fill=black,width=5)\n",
        "draw.arc((240,140,350,250),-120,-60,fill=black,width=5)\n",
        "\n",
        "draw.chord((190,240,310,350),start=-10,end=190,fill=(210,80,82))\n",
        "\n",
        "display(im)\n"
      ],
      "execution_count": 46,
      "outputs": [
        {
          "output_type": "display_data",
          "data": {
            "image/png": "[encoded data removed]",
            "text/plain": [
              "<PIL.Image.Image image mode=RGB size=500x500 at 0x7F6E54C71A50>"
            ]
          },
          "metadata": {}
        }
      ]
    },
    {
      "cell_type": "markdown",
      "metadata": {
        "id": "pBtfM_Gbevc7"
      },
      "source": [
        "##イメージファイル"
      ]
    },
    {
      "cell_type": "code",
      "metadata": {
        "id": "Tj2POjxdexgV"
      },
      "source": [
        "from IPython.display import display\n",
        "from PIL import Image\n",
        "\n",
        "img = Image.open(\"imagesample/sample01.jpg\")  # 画像の読み込み\n",
        "\n",
        "display(img)  # 画像表示"
      ],
      "execution_count": null,
      "outputs": []
    },
    {
      "cell_type": "code",
      "metadata": {
        "id": "vICLQaN3fsdy"
      },
      "source": [
        "from IPython.display import display\n",
        "from PIL import Image,ImageDraw,ImageFilter\n",
        "\n",
        "img1 = Image.open(\"imagesample/sample01.jpg\") \n",
        "img2 = Image.open(\"imagesample/sample02.jpg\") \n",
        "img3 = Image.open(\"imagesample/sample02.jpg\").resize((180,150))\n",
        "# 画像の読み込み\n",
        "display(img1)\n",
        "display(img2)\n",
        "\n",
        "img4 = Image.new(\"RGB\", img1.size)\n",
        "img4.paste(img3)\n",
        "display(img4)\n",
        "\n",
        "mask = Image.new(\"L\", img1.size, 128)\n",
        "im = Image.composite(img1, img4, mask)\n",
        "im = Image.blend(img1, img4, 0.5)\n",
        "display(im)\n",
        "\n",
        "mask = Image.new(\"L\", img1.size, 0)\n",
        "draw = ImageDraw.Draw(mask)\n",
        "draw.ellipse((0, 0, 179, 149), fill=255)\n",
        "im = Image.composite(img4, img1, mask)\n",
        "display(im)\n",
        "\n",
        "mask = Image.new(\"L\", img1.size, 0)\n",
        "draw = ImageDraw.Draw(mask)\n",
        "draw.ellipse((0, 0, 179, 149), fill=255)\n",
        "mask_blur = mask.filter(ImageFilter.GaussianBlur(10))\n",
        "im = Image.composite(img4, img1, mask_blur)\n",
        "display(im)\n",
        "# 画像表示"
      ],
      "execution_count": null,
      "outputs": []
    },
    {
      "cell_type": "markdown",
      "metadata": {
        "id": "E5FexHneg8yS"
      },
      "source": [
        "#クラス\n"
      ]
    },
    {
      "cell_type": "code",
      "metadata": {
        "colab": {
          "base_uri": "https://localhost:8080/"
        },
        "id": "E6yrG3kshIv1",
        "outputId": "d7b147aa-befb-4dc9-8d05-49bca33c38d9"
      },
      "source": [
        "class Person:\n",
        "    pass #なんの命令もない空クラス（型）\n",
        "    \n",
        "#実体の作成　１つ目　変数a、二つ目　変数b\n",
        "a = Person()\n",
        "b = Person()\n",
        "#１つ目の実体のxという変数に10を代入\n",
        "a.x = 10\n",
        "#２つ目の実体のxという変数に20を代入\n",
        "b.x = 20\n",
        "#１つ目aと二つ目bの実体のxという変数を出力 \n",
        "print(\"a.x = \", a.x)\n",
        "print(\"b.x = \", b.x)"
      ],
      "execution_count": 55,
      "outputs": [
        {
          "output_type": "stream",
          "name": "stdout",
          "text": [
            "a.x =  10\n",
            "b.x =  20\n"
          ]
        }
      ]
    },
    {
      "cell_type": "code",
      "metadata": {
        "colab": {
          "base_uri": "https://localhost:8080/"
        },
        "id": "e_uBbe0ehKB8",
        "outputId": "496dd086-f891-4248-ae6e-b4bc8966d7d8"
      },
      "source": [
        "class Person:\n",
        "    pass\n",
        "\n",
        "a = Person()\n",
        "b = Person()\n",
        "#クラス名の後に変数を記述するとクラス変数となる。\n",
        "Person.x = 10\n",
        "#また実体の__class__を利用するとクラス変数となる。\n",
        "b.__class__.x = 20\n",
        "#凡例class-1と同じ書き方ですが、それぞれクラス変数と解釈されると\n",
        "#実体１と実体２で共通の値を参照していることがわかります。\n",
        "print(\"a.x = \", a.x)\n",
        "print(\"b.x = \", b.x)"
      ],
      "execution_count": 56,
      "outputs": [
        {
          "output_type": "stream",
          "name": "stdout",
          "text": [
            "a.x =  20\n",
            "b.x =  20\n"
          ]
        }
      ]
    },
    {
      "cell_type": "code",
      "metadata": {
        "colab": {
          "base_uri": "https://localhost:8080/"
        },
        "id": "1QVe64b5hOEy",
        "outputId": "4253fe97-9dbb-417a-bb98-40f0b996a0dc"
      },
      "source": [
        "class Student: \n",
        "    #数学の点数を管理する処理\n",
        "    def set_m(self,m):\n",
        "        #第二引数は17行目以降のset_mの引数となり\n",
        "        #実体のデータmとして管理・操作できるように保存\n",
        "        self.m = m\n",
        "        if m >= 50:\n",
        "            #合否を実体のデータgradingとして設定\n",
        "            self.grading = \"good\"\n",
        "        else:\n",
        "            self.grading = \"bad\"\n",
        "\n",
        "a = Student()\n",
        "b = Student()\n",
        "c = Student()\n",
        "#Studentの中身を知らなくてもset_mが何をするのか知っていればOK\n",
        "a.set_m(75)\n",
        "b.set_m(48)\n",
        "c.set_m(95)\n",
        "print(\"a \", a.m ,a.grading)\n",
        "print(\"b \", b.m ,b.grading)\n",
        "print(\"c \", c.m ,c.grading)"
      ],
      "execution_count": 57,
      "outputs": [
        {
          "output_type": "stream",
          "name": "stdout",
          "text": [
            "a  75 good\n",
            "b  48 bad\n",
            "c  95 good\n"
          ]
        }
      ]
    },
    {
      "cell_type": "code",
      "metadata": {
        "colab": {
          "base_uri": "https://localhost:8080/"
        },
        "id": "thapoxN2hSCK",
        "outputId": "76949fbb-fa41-4b7a-c97d-0b748b8a8d17"
      },
      "source": [
        "class Student: \n",
        "    def set_m(self,m):\n",
        "        self.m = m\n",
        "        if m >= 50:\n",
        "            self.grading = \"good\"\n",
        "        else:\n",
        "            self.grading = \"bad\"\n",
        "#クラス宣言の括弧の中に利用したい機能のスーパークラスを記載します。\n",
        "class SubStudent(Student): \n",
        "    def set_e(self,e):\n",
        "        self.e = e\n",
        "        if e >= 50:\n",
        "            #合否を実体のデータe_gradingとして設定\n",
        "            self.e_grading = \"good\"\n",
        "        else:\n",
        "            self.e_grading = \"bad\"\n",
        "a = SubStudent()\n",
        "a.set_m(80)\n",
        "a.set_e(30)\n",
        "print(\"a Mathematics\", a.m ,a.grading)\n",
        "print(\"a English\", a.e ,a.e_grading)"
      ],
      "execution_count": 58,
      "outputs": [
        {
          "output_type": "stream",
          "name": "stdout",
          "text": [
            "a Mathematics 80 good\n",
            "a English 30 bad\n"
          ]
        }
      ]
    }
  ]
}